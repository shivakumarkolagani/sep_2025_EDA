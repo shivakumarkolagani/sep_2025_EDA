{
 "cells": [
  {
   "cell_type": "code",
   "execution_count": 4,
   "id": "e76b9ede-e94d-4c9e-b26a-faa56a0357c1",
   "metadata": {},
   "outputs": [],
   "source": [
    "import pandas as pd \n",
    "import numpy as np\n",
    "import matplotlib.pyplot as plt\n",
    "import seaborn as sns"
   ]
  },
  {
   "cell_type": "markdown",
   "id": "fa4d190f-68b6-48a8-9160-9f8fbfe5ea20",
   "metadata": {},
   "source": [
    "- code is changed\n",
    "- git session is started in 15-feb-2025\n"
   ]
  },
  {
   "cell_type": "code",
   "execution_count": 1,
   "id": "7fa542b3-a835-4d43-abec-15b5d814acdd",
   "metadata": {},
   "outputs": [],
   "source": [
    "# create a data with \n",
    "# name \n",
    "# city \n",
    "# age\n",
    "# each column as 4 values\n",
    "# each column we will miss one value"
   ]
  },
  {
   "cell_type": "code",
   "execution_count": 10,
   "id": "d7d01a83-1bc3-4213-8a46-064b8f00e1b7",
   "metadata": {},
   "outputs": [
    {
     "data": {
      "text/plain": [
       "{'name': ['shiva', 'shashi', 'kumar', None],\n",
       " 'age': [20, None, 22, 23],\n",
       " 'city': [None, 'hyd', 'pune', 'jgl']}"
      ]
     },
     "execution_count": 10,
     "metadata": {},
     "output_type": "execute_result"
    }
   ],
   "source": [
    "dict={'name':['shiva','shashi','kumar',None],\n",
    "                             'age':[20,None,22,23],\n",
    "                                    'city':[None,'hyd','pune','jgl']}\n",
    "dict"
   ]
  },
  {
   "cell_type": "code",
   "execution_count": 12,
   "id": "9066fe74-5c7e-4cf6-82be-294ebdd68246",
   "metadata": {},
   "outputs": [
    {
     "data": {
      "text/html": [
       "<div>\n",
       "<style scoped>\n",
       "    .dataframe tbody tr th:only-of-type {\n",
       "        vertical-align: middle;\n",
       "    }\n",
       "\n",
       "    .dataframe tbody tr th {\n",
       "        vertical-align: top;\n",
       "    }\n",
       "\n",
       "    .dataframe thead th {\n",
       "        text-align: right;\n",
       "    }\n",
       "</style>\n",
       "<table border=\"1\" class=\"dataframe\">\n",
       "  <thead>\n",
       "    <tr style=\"text-align: right;\">\n",
       "      <th></th>\n",
       "      <th>name</th>\n",
       "      <th>age</th>\n",
       "      <th>city</th>\n",
       "    </tr>\n",
       "  </thead>\n",
       "  <tbody>\n",
       "    <tr>\n",
       "      <th>0</th>\n",
       "      <td>shiva</td>\n",
       "      <td>20.0</td>\n",
       "      <td>None</td>\n",
       "    </tr>\n",
       "    <tr>\n",
       "      <th>1</th>\n",
       "      <td>shashi</td>\n",
       "      <td>NaN</td>\n",
       "      <td>hyd</td>\n",
       "    </tr>\n",
       "    <tr>\n",
       "      <th>2</th>\n",
       "      <td>kumar</td>\n",
       "      <td>22.0</td>\n",
       "      <td>pune</td>\n",
       "    </tr>\n",
       "    <tr>\n",
       "      <th>3</th>\n",
       "      <td>None</td>\n",
       "      <td>23.0</td>\n",
       "      <td>jgl</td>\n",
       "    </tr>\n",
       "  </tbody>\n",
       "</table>\n",
       "</div>"
      ],
      "text/plain": [
       "     name   age  city\n",
       "0   shiva  20.0  None\n",
       "1  shashi   NaN   hyd\n",
       "2   kumar  22.0  pune\n",
       "3    None  23.0   jgl"
      ]
     },
     "execution_count": 12,
     "metadata": {},
     "output_type": "execute_result"
    }
   ],
   "source": [
    "dict={'name':['shiva','shashi','kumar',None],\n",
    "                             'age':[20,None,22,23],\n",
    "                                    'city':[None,'hyd','pune','jgl']\n",
    "     }\n",
    "data=pd.DataFrame(dict)\n",
    "data"
   ]
  },
  {
   "cell_type": "markdown",
   "id": "32445ea0-3543-4548-a3c4-69ca3750b3f6",
   "metadata": {},
   "source": [
    "- while creating we provide None\n",
    "- but by default the dataframe adjudst the data type"
   ]
  },
  {
   "cell_type": "code",
   "execution_count": 13,
   "id": "46363329-ea2e-4655-8043-8cae2ab5ed7d",
   "metadata": {},
   "outputs": [],
   "source": [
    "dict={'name':['shiva','shashi','kumar',None],\n",
    "                             'age':[20,None,22,23],\n",
    "                                    'city':[None,'hyd','pune','jgl']\n",
    "     }\n",
    "data=pd.DataFrame(dict)\n",
    "data.to_csv('dict.csv',index=False)"
   ]
  },
  {
   "cell_type": "code",
   "execution_count": 14,
   "id": "f657730d-7859-4fcf-a5ce-1a55b4cd6d2f",
   "metadata": {},
   "outputs": [],
   "source": [
    "# we have to import the package numpy\n",
    "import numpy as np"
   ]
  },
  {
   "cell_type": "code",
   "execution_count": 15,
   "id": "bb0e3715-634b-43bb-84ca-ea493041ca1d",
   "metadata": {},
   "outputs": [
    {
     "data": {
      "text/html": [
       "<div>\n",
       "<style scoped>\n",
       "    .dataframe tbody tr th:only-of-type {\n",
       "        vertical-align: middle;\n",
       "    }\n",
       "\n",
       "    .dataframe tbody tr th {\n",
       "        vertical-align: top;\n",
       "    }\n",
       "\n",
       "    .dataframe thead th {\n",
       "        text-align: right;\n",
       "    }\n",
       "</style>\n",
       "<table border=\"1\" class=\"dataframe\">\n",
       "  <thead>\n",
       "    <tr style=\"text-align: right;\">\n",
       "      <th></th>\n",
       "      <th>name</th>\n",
       "      <th>age</th>\n",
       "      <th>city</th>\n",
       "    </tr>\n",
       "  </thead>\n",
       "  <tbody>\n",
       "    <tr>\n",
       "      <th>0</th>\n",
       "      <td>shiva</td>\n",
       "      <td>20.0</td>\n",
       "      <td>NaN</td>\n",
       "    </tr>\n",
       "    <tr>\n",
       "      <th>1</th>\n",
       "      <td>shashi</td>\n",
       "      <td>NaN</td>\n",
       "      <td>hyd</td>\n",
       "    </tr>\n",
       "    <tr>\n",
       "      <th>2</th>\n",
       "      <td>kumar</td>\n",
       "      <td>22.0</td>\n",
       "      <td>pune</td>\n",
       "    </tr>\n",
       "    <tr>\n",
       "      <th>3</th>\n",
       "      <td>NaN</td>\n",
       "      <td>23.0</td>\n",
       "      <td>jgl</td>\n",
       "    </tr>\n",
       "  </tbody>\n",
       "</table>\n",
       "</div>"
      ],
      "text/plain": [
       "     name   age  city\n",
       "0   shiva  20.0   NaN\n",
       "1  shashi   NaN   hyd\n",
       "2   kumar  22.0  pune\n",
       "3     NaN  23.0   jgl"
      ]
     },
     "execution_count": 15,
     "metadata": {},
     "output_type": "execute_result"
    }
   ],
   "source": [
    "dict2={'name':['shiva','shashi','kumar',np.nan],\n",
    "                             'age':[20,np.nan,22,23],\n",
    "                                    'city':[np.nan,'hyd','pune','jgl']\n",
    "     }\n",
    "data1=pd.DataFrame(dict2)\n",
    "data1"
   ]
  },
  {
   "cell_type": "code",
   "execution_count": 16,
   "id": "08db268d-f5fe-490e-b9bc-298800b9b064",
   "metadata": {},
   "outputs": [],
   "source": [
    "dict2={'name':['shiva','shashi','kumar',np.nan],\n",
    "                             'age':[20,np.nan,22,23],\n",
    "                                    'city':[np.nan,'hyd','pune','jgl']\n",
    "     }\n",
    "data1=pd.DataFrame(dict2)\n",
    "data1.to_csv('dict1.csv',index=False)"
   ]
  },
  {
   "cell_type": "code",
   "execution_count": 17,
   "id": "b9afca2b-7ae1-4e71-9122-13dbf5dec77a",
   "metadata": {},
   "outputs": [],
   "source": [
    "# while checking  both saved data's are same in the local folders"
   ]
  },
  {
   "cell_type": "code",
   "execution_count": 18,
   "id": "3b5ce282-0d6e-461f-af82-5ddcc5ac7d61",
   "metadata": {},
   "outputs": [
    {
     "data": {
      "text/html": [
       "<div>\n",
       "<style scoped>\n",
       "    .dataframe tbody tr th:only-of-type {\n",
       "        vertical-align: middle;\n",
       "    }\n",
       "\n",
       "    .dataframe tbody tr th {\n",
       "        vertical-align: top;\n",
       "    }\n",
       "\n",
       "    .dataframe thead th {\n",
       "        text-align: right;\n",
       "    }\n",
       "</style>\n",
       "<table border=\"1\" class=\"dataframe\">\n",
       "  <thead>\n",
       "    <tr style=\"text-align: right;\">\n",
       "      <th></th>\n",
       "      <th>name</th>\n",
       "      <th>age</th>\n",
       "      <th>city</th>\n",
       "    </tr>\n",
       "  </thead>\n",
       "  <tbody>\n",
       "    <tr>\n",
       "      <th>0</th>\n",
       "      <td>False</td>\n",
       "      <td>False</td>\n",
       "      <td>True</td>\n",
       "    </tr>\n",
       "    <tr>\n",
       "      <th>1</th>\n",
       "      <td>False</td>\n",
       "      <td>True</td>\n",
       "      <td>False</td>\n",
       "    </tr>\n",
       "    <tr>\n",
       "      <th>2</th>\n",
       "      <td>False</td>\n",
       "      <td>False</td>\n",
       "      <td>False</td>\n",
       "    </tr>\n",
       "    <tr>\n",
       "      <th>3</th>\n",
       "      <td>True</td>\n",
       "      <td>False</td>\n",
       "      <td>False</td>\n",
       "    </tr>\n",
       "  </tbody>\n",
       "</table>\n",
       "</div>"
      ],
      "text/plain": [
       "    name    age   city\n",
       "0  False  False   True\n",
       "1  False   True  False\n",
       "2  False  False  False\n",
       "3   True  False  False"
      ]
     },
     "execution_count": 18,
     "metadata": {},
     "output_type": "execute_result"
    }
   ],
   "source": [
    "data1.isnull()"
   ]
  },
  {
   "cell_type": "code",
   "execution_count": 19,
   "id": "1d173956-6320-4372-8cb8-dd59bbae62c0",
   "metadata": {},
   "outputs": [
    {
     "data": {
      "text/plain": [
       "name    1\n",
       "age     1\n",
       "city    1\n",
       "dtype: int64"
      ]
     },
     "execution_count": 19,
     "metadata": {},
     "output_type": "execute_result"
    }
   ],
   "source": [
    "data1.isnull().sum()"
   ]
  },
  {
   "cell_type": "code",
   "execution_count": 20,
   "id": "98677c8a-51f8-491c-ae3d-f83404a020f8",
   "metadata": {},
   "outputs": [],
   "source": [
    "# the meaning of above is each column and row the one(1) data is missing"
   ]
  },
  {
   "cell_type": "code",
   "execution_count": 22,
   "id": "944f2ebc-9251-4e1f-8ce0-539bd7993ebc",
   "metadata": {},
   "outputs": [
    {
     "data": {
      "text/html": [
       "<div>\n",
       "<style scoped>\n",
       "    .dataframe tbody tr th:only-of-type {\n",
       "        vertical-align: middle;\n",
       "    }\n",
       "\n",
       "    .dataframe tbody tr th {\n",
       "        vertical-align: top;\n",
       "    }\n",
       "\n",
       "    .dataframe thead th {\n",
       "        text-align: right;\n",
       "    }\n",
       "</style>\n",
       "<table border=\"1\" class=\"dataframe\">\n",
       "  <thead>\n",
       "    <tr style=\"text-align: right;\">\n",
       "      <th></th>\n",
       "      <th>name</th>\n",
       "      <th>age</th>\n",
       "      <th>city</th>\n",
       "    </tr>\n",
       "  </thead>\n",
       "  <tbody>\n",
       "    <tr>\n",
       "      <th>0</th>\n",
       "      <td>shiva</td>\n",
       "      <td>20.0</td>\n",
       "      <td>25</td>\n",
       "    </tr>\n",
       "    <tr>\n",
       "      <th>1</th>\n",
       "      <td>shashi</td>\n",
       "      <td>25.0</td>\n",
       "      <td>hyd</td>\n",
       "    </tr>\n",
       "    <tr>\n",
       "      <th>2</th>\n",
       "      <td>kumar</td>\n",
       "      <td>22.0</td>\n",
       "      <td>pune</td>\n",
       "    </tr>\n",
       "    <tr>\n",
       "      <th>3</th>\n",
       "      <td>25</td>\n",
       "      <td>23.0</td>\n",
       "      <td>jgl</td>\n",
       "    </tr>\n",
       "  </tbody>\n",
       "</table>\n",
       "</div>"
      ],
      "text/plain": [
       "     name   age  city\n",
       "0   shiva  20.0    25\n",
       "1  shashi  25.0   hyd\n",
       "2   kumar  22.0  pune\n",
       "3      25  23.0   jgl"
      ]
     },
     "execution_count": 22,
     "metadata": {},
     "output_type": "execute_result"
    }
   ],
   "source": [
    "data1.fillna(25)"
   ]
  },
  {
   "cell_type": "code",
   "execution_count": null,
   "id": "7dd4910a-f098-479f-90ad-faae61817b3e",
   "metadata": {},
   "outputs": [],
   "source": [
    "# the none columns will be filled with the given argument =25\n"
   ]
  },
  {
   "cell_type": "code",
   "execution_count": 25,
   "id": "4d6324b2-8145-4528-a84d-8413e2727121",
   "metadata": {},
   "outputs": [
    {
     "data": {
      "text/plain": [
       "0     shiva\n",
       "1    shashi\n",
       "2     kumar\n",
       "3      abhi\n",
       "Name: name, dtype: object"
      ]
     },
     "execution_count": 25,
     "metadata": {},
     "output_type": "execute_result"
    }
   ],
   "source": [
    "data1['name'].fillna('abhi')"
   ]
  },
  {
   "cell_type": "markdown",
   "id": "3a1dc343-e3ef-4f61-a9d1-6e5fe53baab1",
   "metadata": {},
   "source": [
    "- pad \n",
    "- ffill\n",
    "- backfill\n",
    "- bfill\n",
    "- donot give any value,only provide the method='pad'"
   ]
  },
  {
   "cell_type": "code",
   "execution_count": 32,
   "id": "c414d0b4-446c-4cf5-804e-822397988e1b",
   "metadata": {},
   "outputs": [
    {
     "name": "stderr",
     "output_type": "stream",
     "text": [
      "C:\\Users\\Kolag\\AppData\\Local\\Temp\\ipykernel_5740\\116358274.py:1: FutureWarning: DataFrame.fillna with 'method' is deprecated and will raise in a future version. Use obj.ffill() or obj.bfill() instead.\n",
      "  data1.fillna(method='pad')\n"
     ]
    },
    {
     "data": {
      "text/html": [
       "<div>\n",
       "<style scoped>\n",
       "    .dataframe tbody tr th:only-of-type {\n",
       "        vertical-align: middle;\n",
       "    }\n",
       "\n",
       "    .dataframe tbody tr th {\n",
       "        vertical-align: top;\n",
       "    }\n",
       "\n",
       "    .dataframe thead th {\n",
       "        text-align: right;\n",
       "    }\n",
       "</style>\n",
       "<table border=\"1\" class=\"dataframe\">\n",
       "  <thead>\n",
       "    <tr style=\"text-align: right;\">\n",
       "      <th></th>\n",
       "      <th>name</th>\n",
       "      <th>age</th>\n",
       "      <th>city</th>\n",
       "    </tr>\n",
       "  </thead>\n",
       "  <tbody>\n",
       "    <tr>\n",
       "      <th>0</th>\n",
       "      <td>shiva</td>\n",
       "      <td>20.0</td>\n",
       "      <td>NaN</td>\n",
       "    </tr>\n",
       "    <tr>\n",
       "      <th>1</th>\n",
       "      <td>shashi</td>\n",
       "      <td>20.0</td>\n",
       "      <td>hyd</td>\n",
       "    </tr>\n",
       "    <tr>\n",
       "      <th>2</th>\n",
       "      <td>kumar</td>\n",
       "      <td>22.0</td>\n",
       "      <td>pune</td>\n",
       "    </tr>\n",
       "    <tr>\n",
       "      <th>3</th>\n",
       "      <td>kumar</td>\n",
       "      <td>23.0</td>\n",
       "      <td>jgl</td>\n",
       "    </tr>\n",
       "  </tbody>\n",
       "</table>\n",
       "</div>"
      ],
      "text/plain": [
       "     name   age  city\n",
       "0   shiva  20.0   NaN\n",
       "1  shashi  20.0   hyd\n",
       "2   kumar  22.0  pune\n",
       "3   kumar  23.0   jgl"
      ]
     },
     "execution_count": 32,
     "metadata": {},
     "output_type": "execute_result"
    }
   ],
   "source": [
    "data1.fillna(method='pad')"
   ]
  },
  {
   "cell_type": "code",
   "execution_count": null,
   "id": "328d8bc4-4cf7-4477-8d05-a2b08cbcf087",
   "metadata": {},
   "outputs": [],
   "source": [
    "# while we getting warning\n",
    "# we have to follow below "
   ]
  },
  {
   "cell_type": "code",
   "execution_count": 34,
   "id": "d4d2c7d5-f647-4469-8eb7-e49f7d12e380",
   "metadata": {},
   "outputs": [
    {
     "data": {
      "text/html": [
       "<div>\n",
       "<style scoped>\n",
       "    .dataframe tbody tr th:only-of-type {\n",
       "        vertical-align: middle;\n",
       "    }\n",
       "\n",
       "    .dataframe tbody tr th {\n",
       "        vertical-align: top;\n",
       "    }\n",
       "\n",
       "    .dataframe thead th {\n",
       "        text-align: right;\n",
       "    }\n",
       "</style>\n",
       "<table border=\"1\" class=\"dataframe\">\n",
       "  <thead>\n",
       "    <tr style=\"text-align: right;\">\n",
       "      <th></th>\n",
       "      <th>name</th>\n",
       "      <th>age</th>\n",
       "      <th>city</th>\n",
       "    </tr>\n",
       "  </thead>\n",
       "  <tbody>\n",
       "    <tr>\n",
       "      <th>0</th>\n",
       "      <td>shiva</td>\n",
       "      <td>20.0</td>\n",
       "      <td>NaN</td>\n",
       "    </tr>\n",
       "    <tr>\n",
       "      <th>1</th>\n",
       "      <td>shashi</td>\n",
       "      <td>20.0</td>\n",
       "      <td>hyd</td>\n",
       "    </tr>\n",
       "    <tr>\n",
       "      <th>2</th>\n",
       "      <td>kumar</td>\n",
       "      <td>22.0</td>\n",
       "      <td>pune</td>\n",
       "    </tr>\n",
       "    <tr>\n",
       "      <th>3</th>\n",
       "      <td>kumar</td>\n",
       "      <td>23.0</td>\n",
       "      <td>jgl</td>\n",
       "    </tr>\n",
       "  </tbody>\n",
       "</table>\n",
       "</div>"
      ],
      "text/plain": [
       "     name   age  city\n",
       "0   shiva  20.0   NaN\n",
       "1  shashi  20.0   hyd\n",
       "2   kumar  22.0  pune\n",
       "3   kumar  23.0   jgl"
      ]
     },
     "execution_count": 34,
     "metadata": {},
     "output_type": "execute_result"
    }
   ],
   "source": [
    "import warnings\n",
    "warnings.filterwarnings('ignore')\n",
    "data1.fillna(method='pad')"
   ]
  },
  {
   "cell_type": "code",
   "execution_count": 35,
   "id": "e061a16c-be1b-4a7f-a41a-23fef7218065",
   "metadata": {},
   "outputs": [
    {
     "data": {
      "text/html": [
       "<div>\n",
       "<style scoped>\n",
       "    .dataframe tbody tr th:only-of-type {\n",
       "        vertical-align: middle;\n",
       "    }\n",
       "\n",
       "    .dataframe tbody tr th {\n",
       "        vertical-align: top;\n",
       "    }\n",
       "\n",
       "    .dataframe thead th {\n",
       "        text-align: right;\n",
       "    }\n",
       "</style>\n",
       "<table border=\"1\" class=\"dataframe\">\n",
       "  <thead>\n",
       "    <tr style=\"text-align: right;\">\n",
       "      <th></th>\n",
       "      <th>name</th>\n",
       "      <th>age</th>\n",
       "      <th>city</th>\n",
       "    </tr>\n",
       "  </thead>\n",
       "  <tbody>\n",
       "    <tr>\n",
       "      <th>0</th>\n",
       "      <td>shiva</td>\n",
       "      <td>20.0</td>\n",
       "      <td>NaN</td>\n",
       "    </tr>\n",
       "    <tr>\n",
       "      <th>1</th>\n",
       "      <td>shashi</td>\n",
       "      <td>NaN</td>\n",
       "      <td>hyd</td>\n",
       "    </tr>\n",
       "    <tr>\n",
       "      <th>2</th>\n",
       "      <td>kumar</td>\n",
       "      <td>22.0</td>\n",
       "      <td>pune</td>\n",
       "    </tr>\n",
       "    <tr>\n",
       "      <th>3</th>\n",
       "      <td>NaN</td>\n",
       "      <td>23.0</td>\n",
       "      <td>jgl</td>\n",
       "    </tr>\n",
       "  </tbody>\n",
       "</table>\n",
       "</div>"
      ],
      "text/plain": [
       "     name   age  city\n",
       "0   shiva  20.0   NaN\n",
       "1  shashi   NaN   hyd\n",
       "2   kumar  22.0  pune\n",
       "3     NaN  23.0   jgl"
      ]
     },
     "execution_count": 35,
     "metadata": {},
     "output_type": "execute_result"
    }
   ],
   "source": [
    "data1"
   ]
  },
  {
   "cell_type": "code",
   "execution_count": 36,
   "id": "6cf4773b-4cbc-4ea7-99c1-3e753d6948ac",
   "metadata": {},
   "outputs": [
    {
     "data": {
      "text/html": [
       "<div>\n",
       "<style scoped>\n",
       "    .dataframe tbody tr th:only-of-type {\n",
       "        vertical-align: middle;\n",
       "    }\n",
       "\n",
       "    .dataframe tbody tr th {\n",
       "        vertical-align: top;\n",
       "    }\n",
       "\n",
       "    .dataframe thead th {\n",
       "        text-align: right;\n",
       "    }\n",
       "</style>\n",
       "<table border=\"1\" class=\"dataframe\">\n",
       "  <thead>\n",
       "    <tr style=\"text-align: right;\">\n",
       "      <th></th>\n",
       "      <th>name</th>\n",
       "      <th>age</th>\n",
       "      <th>city</th>\n",
       "    </tr>\n",
       "  </thead>\n",
       "  <tbody>\n",
       "    <tr>\n",
       "      <th>0</th>\n",
       "      <td>shiva</td>\n",
       "      <td>20.0</td>\n",
       "      <td>NaN</td>\n",
       "    </tr>\n",
       "    <tr>\n",
       "      <th>1</th>\n",
       "      <td>shashi</td>\n",
       "      <td>20.0</td>\n",
       "      <td>hyd</td>\n",
       "    </tr>\n",
       "    <tr>\n",
       "      <th>2</th>\n",
       "      <td>kumar</td>\n",
       "      <td>22.0</td>\n",
       "      <td>pune</td>\n",
       "    </tr>\n",
       "    <tr>\n",
       "      <th>3</th>\n",
       "      <td>kumar</td>\n",
       "      <td>23.0</td>\n",
       "      <td>jgl</td>\n",
       "    </tr>\n",
       "  </tbody>\n",
       "</table>\n",
       "</div>"
      ],
      "text/plain": [
       "     name   age  city\n",
       "0   shiva  20.0   NaN\n",
       "1  shashi  20.0   hyd\n",
       "2   kumar  22.0  pune\n",
       "3   kumar  23.0   jgl"
      ]
     },
     "execution_count": 36,
     "metadata": {},
     "output_type": "execute_result"
    }
   ],
   "source": [
    "data1.fillna(method='ffill')"
   ]
  },
  {
   "cell_type": "code",
   "execution_count": 37,
   "id": "a35ba076-b3a3-4445-a48d-20e3e84fdb10",
   "metadata": {},
   "outputs": [
    {
     "data": {
      "text/html": [
       "<div>\n",
       "<style scoped>\n",
       "    .dataframe tbody tr th:only-of-type {\n",
       "        vertical-align: middle;\n",
       "    }\n",
       "\n",
       "    .dataframe tbody tr th {\n",
       "        vertical-align: top;\n",
       "    }\n",
       "\n",
       "    .dataframe thead th {\n",
       "        text-align: right;\n",
       "    }\n",
       "</style>\n",
       "<table border=\"1\" class=\"dataframe\">\n",
       "  <thead>\n",
       "    <tr style=\"text-align: right;\">\n",
       "      <th></th>\n",
       "      <th>name</th>\n",
       "      <th>age</th>\n",
       "      <th>city</th>\n",
       "    </tr>\n",
       "  </thead>\n",
       "  <tbody>\n",
       "    <tr>\n",
       "      <th>0</th>\n",
       "      <td>shiva</td>\n",
       "      <td>20.0</td>\n",
       "      <td>hyd</td>\n",
       "    </tr>\n",
       "    <tr>\n",
       "      <th>1</th>\n",
       "      <td>shashi</td>\n",
       "      <td>22.0</td>\n",
       "      <td>hyd</td>\n",
       "    </tr>\n",
       "    <tr>\n",
       "      <th>2</th>\n",
       "      <td>kumar</td>\n",
       "      <td>22.0</td>\n",
       "      <td>pune</td>\n",
       "    </tr>\n",
       "    <tr>\n",
       "      <th>3</th>\n",
       "      <td>NaN</td>\n",
       "      <td>23.0</td>\n",
       "      <td>jgl</td>\n",
       "    </tr>\n",
       "  </tbody>\n",
       "</table>\n",
       "</div>"
      ],
      "text/plain": [
       "     name   age  city\n",
       "0   shiva  20.0   hyd\n",
       "1  shashi  22.0   hyd\n",
       "2   kumar  22.0  pune\n",
       "3     NaN  23.0   jgl"
      ]
     },
     "execution_count": 37,
     "metadata": {},
     "output_type": "execute_result"
    }
   ],
   "source": [
    "data1.fillna(method='backfill')"
   ]
  },
  {
   "cell_type": "code",
   "execution_count": 38,
   "id": "7df5e9cd-4a1f-4de4-b029-a115890506c5",
   "metadata": {},
   "outputs": [
    {
     "data": {
      "text/html": [
       "<div>\n",
       "<style scoped>\n",
       "    .dataframe tbody tr th:only-of-type {\n",
       "        vertical-align: middle;\n",
       "    }\n",
       "\n",
       "    .dataframe tbody tr th {\n",
       "        vertical-align: top;\n",
       "    }\n",
       "\n",
       "    .dataframe thead th {\n",
       "        text-align: right;\n",
       "    }\n",
       "</style>\n",
       "<table border=\"1\" class=\"dataframe\">\n",
       "  <thead>\n",
       "    <tr style=\"text-align: right;\">\n",
       "      <th></th>\n",
       "      <th>name</th>\n",
       "      <th>age</th>\n",
       "      <th>city</th>\n",
       "    </tr>\n",
       "  </thead>\n",
       "  <tbody>\n",
       "    <tr>\n",
       "      <th>0</th>\n",
       "      <td>shiva</td>\n",
       "      <td>20.0</td>\n",
       "      <td>hyd</td>\n",
       "    </tr>\n",
       "    <tr>\n",
       "      <th>1</th>\n",
       "      <td>shashi</td>\n",
       "      <td>22.0</td>\n",
       "      <td>hyd</td>\n",
       "    </tr>\n",
       "    <tr>\n",
       "      <th>2</th>\n",
       "      <td>kumar</td>\n",
       "      <td>22.0</td>\n",
       "      <td>pune</td>\n",
       "    </tr>\n",
       "    <tr>\n",
       "      <th>3</th>\n",
       "      <td>NaN</td>\n",
       "      <td>23.0</td>\n",
       "      <td>jgl</td>\n",
       "    </tr>\n",
       "  </tbody>\n",
       "</table>\n",
       "</div>"
      ],
      "text/plain": [
       "     name   age  city\n",
       "0   shiva  20.0   hyd\n",
       "1  shashi  22.0   hyd\n",
       "2   kumar  22.0  pune\n",
       "3     NaN  23.0   jgl"
      ]
     },
     "execution_count": 38,
     "metadata": {},
     "output_type": "execute_result"
    }
   ],
   "source": [
    "data1.fillna(method='bfill')"
   ]
  },
  {
   "cell_type": "code",
   "execution_count": null,
   "id": "08d2dd6e-e5ed-498e-85ec-b7b765feb94a",
   "metadata": {},
   "outputs": [],
   "source": [
    "# bfill and backfill are same \n",
    "# pad and ffill are same"
   ]
  },
  {
   "cell_type": "code",
   "execution_count": 39,
   "id": "af0413c0-0033-4b36-b855-12b80f819cdc",
   "metadata": {},
   "outputs": [
    {
     "data": {
      "text/html": [
       "<div>\n",
       "<style scoped>\n",
       "    .dataframe tbody tr th:only-of-type {\n",
       "        vertical-align: middle;\n",
       "    }\n",
       "\n",
       "    .dataframe tbody tr th {\n",
       "        vertical-align: top;\n",
       "    }\n",
       "\n",
       "    .dataframe thead th {\n",
       "        text-align: right;\n",
       "    }\n",
       "</style>\n",
       "<table border=\"1\" class=\"dataframe\">\n",
       "  <thead>\n",
       "    <tr style=\"text-align: right;\">\n",
       "      <th></th>\n",
       "      <th>name</th>\n",
       "      <th>age</th>\n",
       "      <th>city</th>\n",
       "    </tr>\n",
       "  </thead>\n",
       "  <tbody>\n",
       "    <tr>\n",
       "      <th>0</th>\n",
       "      <td>shiva</td>\n",
       "      <td>20.0</td>\n",
       "      <td>hyd</td>\n",
       "    </tr>\n",
       "    <tr>\n",
       "      <th>1</th>\n",
       "      <td>shashi</td>\n",
       "      <td>22.0</td>\n",
       "      <td>hyd</td>\n",
       "    </tr>\n",
       "    <tr>\n",
       "      <th>2</th>\n",
       "      <td>kumar</td>\n",
       "      <td>22.0</td>\n",
       "      <td>pune</td>\n",
       "    </tr>\n",
       "    <tr>\n",
       "      <th>3</th>\n",
       "      <td>NaN</td>\n",
       "      <td>23.0</td>\n",
       "      <td>jgl</td>\n",
       "    </tr>\n",
       "  </tbody>\n",
       "</table>\n",
       "</div>"
      ],
      "text/plain": [
       "     name   age  city\n",
       "0   shiva  20.0   hyd\n",
       "1  shashi  22.0   hyd\n",
       "2   kumar  22.0  pune\n",
       "3     NaN  23.0   jgl"
      ]
     },
     "execution_count": 39,
     "metadata": {},
     "output_type": "execute_result"
    }
   ],
   "source": [
    "data1.fillna(method='bfill',axis=0)"
   ]
  },
  {
   "cell_type": "code",
   "execution_count": 40,
   "id": "68c5efb0-8922-430e-9b03-4164a036b665",
   "metadata": {},
   "outputs": [
    {
     "data": {
      "text/html": [
       "<div>\n",
       "<style scoped>\n",
       "    .dataframe tbody tr th:only-of-type {\n",
       "        vertical-align: middle;\n",
       "    }\n",
       "\n",
       "    .dataframe tbody tr th {\n",
       "        vertical-align: top;\n",
       "    }\n",
       "\n",
       "    .dataframe thead th {\n",
       "        text-align: right;\n",
       "    }\n",
       "</style>\n",
       "<table border=\"1\" class=\"dataframe\">\n",
       "  <thead>\n",
       "    <tr style=\"text-align: right;\">\n",
       "      <th></th>\n",
       "      <th>name</th>\n",
       "      <th>age</th>\n",
       "      <th>city</th>\n",
       "    </tr>\n",
       "  </thead>\n",
       "  <tbody>\n",
       "    <tr>\n",
       "      <th>0</th>\n",
       "      <td>shiva</td>\n",
       "      <td>20.0</td>\n",
       "      <td>NaN</td>\n",
       "    </tr>\n",
       "    <tr>\n",
       "      <th>1</th>\n",
       "      <td>shashi</td>\n",
       "      <td>hyd</td>\n",
       "      <td>hyd</td>\n",
       "    </tr>\n",
       "    <tr>\n",
       "      <th>2</th>\n",
       "      <td>kumar</td>\n",
       "      <td>22.0</td>\n",
       "      <td>pune</td>\n",
       "    </tr>\n",
       "    <tr>\n",
       "      <th>3</th>\n",
       "      <td>23.0</td>\n",
       "      <td>23.0</td>\n",
       "      <td>jgl</td>\n",
       "    </tr>\n",
       "  </tbody>\n",
       "</table>\n",
       "</div>"
      ],
      "text/plain": [
       "     name   age  city\n",
       "0   shiva  20.0   NaN\n",
       "1  shashi   hyd   hyd\n",
       "2   kumar  22.0  pune\n",
       "3    23.0  23.0   jgl"
      ]
     },
     "execution_count": 40,
     "metadata": {},
     "output_type": "execute_result"
    }
   ],
   "source": [
    "data1.fillna(method='bfill',axis=1)"
   ]
  },
  {
   "cell_type": "code",
   "execution_count": 41,
   "id": "06bb5155-9b66-4264-8d89-6ad7876909df",
   "metadata": {},
   "outputs": [
    {
     "data": {
      "text/html": [
       "<div>\n",
       "<style scoped>\n",
       "    .dataframe tbody tr th:only-of-type {\n",
       "        vertical-align: middle;\n",
       "    }\n",
       "\n",
       "    .dataframe tbody tr th {\n",
       "        vertical-align: top;\n",
       "    }\n",
       "\n",
       "    .dataframe thead th {\n",
       "        text-align: right;\n",
       "    }\n",
       "</style>\n",
       "<table border=\"1\" class=\"dataframe\">\n",
       "  <thead>\n",
       "    <tr style=\"text-align: right;\">\n",
       "      <th></th>\n",
       "      <th>name</th>\n",
       "      <th>age</th>\n",
       "      <th>city</th>\n",
       "    </tr>\n",
       "  </thead>\n",
       "  <tbody>\n",
       "    <tr>\n",
       "      <th>0</th>\n",
       "      <td>shiva</td>\n",
       "      <td>20.0</td>\n",
       "      <td>hyd</td>\n",
       "    </tr>\n",
       "    <tr>\n",
       "      <th>1</th>\n",
       "      <td>shashi</td>\n",
       "      <td>22.0</td>\n",
       "      <td>hyd</td>\n",
       "    </tr>\n",
       "    <tr>\n",
       "      <th>2</th>\n",
       "      <td>kumar</td>\n",
       "      <td>22.0</td>\n",
       "      <td>pune</td>\n",
       "    </tr>\n",
       "    <tr>\n",
       "      <th>3</th>\n",
       "      <td>NaN</td>\n",
       "      <td>23.0</td>\n",
       "      <td>jgl</td>\n",
       "    </tr>\n",
       "  </tbody>\n",
       "</table>\n",
       "</div>"
      ],
      "text/plain": [
       "     name   age  city\n",
       "0   shiva  20.0   hyd\n",
       "1  shashi  22.0   hyd\n",
       "2   kumar  22.0  pune\n",
       "3     NaN  23.0   jgl"
      ]
     },
     "execution_count": 41,
     "metadata": {},
     "output_type": "execute_result"
    }
   ],
   "source": [
    "data1.fillna(method='backfill',axis=0)"
   ]
  },
  {
   "cell_type": "code",
   "execution_count": 42,
   "id": "3c89f052-0a35-4907-9dca-40f082687431",
   "metadata": {},
   "outputs": [
    {
     "data": {
      "text/html": [
       "<div>\n",
       "<style scoped>\n",
       "    .dataframe tbody tr th:only-of-type {\n",
       "        vertical-align: middle;\n",
       "    }\n",
       "\n",
       "    .dataframe tbody tr th {\n",
       "        vertical-align: top;\n",
       "    }\n",
       "\n",
       "    .dataframe thead th {\n",
       "        text-align: right;\n",
       "    }\n",
       "</style>\n",
       "<table border=\"1\" class=\"dataframe\">\n",
       "  <thead>\n",
       "    <tr style=\"text-align: right;\">\n",
       "      <th></th>\n",
       "      <th>name</th>\n",
       "      <th>age</th>\n",
       "      <th>city</th>\n",
       "    </tr>\n",
       "  </thead>\n",
       "  <tbody>\n",
       "    <tr>\n",
       "      <th>0</th>\n",
       "      <td>shiva</td>\n",
       "      <td>20.0</td>\n",
       "      <td>NaN</td>\n",
       "    </tr>\n",
       "    <tr>\n",
       "      <th>1</th>\n",
       "      <td>shashi</td>\n",
       "      <td>hyd</td>\n",
       "      <td>hyd</td>\n",
       "    </tr>\n",
       "    <tr>\n",
       "      <th>2</th>\n",
       "      <td>kumar</td>\n",
       "      <td>22.0</td>\n",
       "      <td>pune</td>\n",
       "    </tr>\n",
       "    <tr>\n",
       "      <th>3</th>\n",
       "      <td>23.0</td>\n",
       "      <td>23.0</td>\n",
       "      <td>jgl</td>\n",
       "    </tr>\n",
       "  </tbody>\n",
       "</table>\n",
       "</div>"
      ],
      "text/plain": [
       "     name   age  city\n",
       "0   shiva  20.0   NaN\n",
       "1  shashi   hyd   hyd\n",
       "2   kumar  22.0  pune\n",
       "3    23.0  23.0   jgl"
      ]
     },
     "execution_count": 42,
     "metadata": {},
     "output_type": "execute_result"
    }
   ],
   "source": [
    "data1.fillna(method='backfill',axis=1)"
   ]
  },
  {
   "cell_type": "code",
   "execution_count": 43,
   "id": "f4bf8b15-7763-4989-b434-f7361c1693c6",
   "metadata": {},
   "outputs": [
    {
     "data": {
      "text/html": [
       "<div>\n",
       "<style scoped>\n",
       "    .dataframe tbody tr th:only-of-type {\n",
       "        vertical-align: middle;\n",
       "    }\n",
       "\n",
       "    .dataframe tbody tr th {\n",
       "        vertical-align: top;\n",
       "    }\n",
       "\n",
       "    .dataframe thead th {\n",
       "        text-align: right;\n",
       "    }\n",
       "</style>\n",
       "<table border=\"1\" class=\"dataframe\">\n",
       "  <thead>\n",
       "    <tr style=\"text-align: right;\">\n",
       "      <th></th>\n",
       "      <th>name</th>\n",
       "      <th>age</th>\n",
       "      <th>city</th>\n",
       "    </tr>\n",
       "  </thead>\n",
       "  <tbody>\n",
       "    <tr>\n",
       "      <th>0</th>\n",
       "      <td>shiva</td>\n",
       "      <td>20.0</td>\n",
       "      <td>NaN</td>\n",
       "    </tr>\n",
       "    <tr>\n",
       "      <th>1</th>\n",
       "      <td>shashi</td>\n",
       "      <td>20.0</td>\n",
       "      <td>hyd</td>\n",
       "    </tr>\n",
       "    <tr>\n",
       "      <th>2</th>\n",
       "      <td>kumar</td>\n",
       "      <td>22.0</td>\n",
       "      <td>pune</td>\n",
       "    </tr>\n",
       "    <tr>\n",
       "      <th>3</th>\n",
       "      <td>kumar</td>\n",
       "      <td>23.0</td>\n",
       "      <td>jgl</td>\n",
       "    </tr>\n",
       "  </tbody>\n",
       "</table>\n",
       "</div>"
      ],
      "text/plain": [
       "     name   age  city\n",
       "0   shiva  20.0   NaN\n",
       "1  shashi  20.0   hyd\n",
       "2   kumar  22.0  pune\n",
       "3   kumar  23.0   jgl"
      ]
     },
     "execution_count": 43,
     "metadata": {},
     "output_type": "execute_result"
    }
   ],
   "source": [
    "data1.fillna(method='ffill',axis=0)"
   ]
  },
  {
   "cell_type": "code",
   "execution_count": 46,
   "id": "7872f83e-35ff-4094-a21c-f9fee4eff17b",
   "metadata": {},
   "outputs": [
    {
     "data": {
      "text/html": [
       "<div>\n",
       "<style scoped>\n",
       "    .dataframe tbody tr th:only-of-type {\n",
       "        vertical-align: middle;\n",
       "    }\n",
       "\n",
       "    .dataframe tbody tr th {\n",
       "        vertical-align: top;\n",
       "    }\n",
       "\n",
       "    .dataframe thead th {\n",
       "        text-align: right;\n",
       "    }\n",
       "</style>\n",
       "<table border=\"1\" class=\"dataframe\">\n",
       "  <thead>\n",
       "    <tr style=\"text-align: right;\">\n",
       "      <th></th>\n",
       "      <th>name</th>\n",
       "      <th>age</th>\n",
       "      <th>city</th>\n",
       "    </tr>\n",
       "  </thead>\n",
       "  <tbody>\n",
       "    <tr>\n",
       "      <th>0</th>\n",
       "      <td>shiva</td>\n",
       "      <td>20.0</td>\n",
       "      <td>20.0</td>\n",
       "    </tr>\n",
       "    <tr>\n",
       "      <th>1</th>\n",
       "      <td>shashi</td>\n",
       "      <td>shashi</td>\n",
       "      <td>hyd</td>\n",
       "    </tr>\n",
       "    <tr>\n",
       "      <th>2</th>\n",
       "      <td>kumar</td>\n",
       "      <td>22.0</td>\n",
       "      <td>pune</td>\n",
       "    </tr>\n",
       "    <tr>\n",
       "      <th>3</th>\n",
       "      <td>NaN</td>\n",
       "      <td>23.0</td>\n",
       "      <td>jgl</td>\n",
       "    </tr>\n",
       "  </tbody>\n",
       "</table>\n",
       "</div>"
      ],
      "text/plain": [
       "     name     age  city\n",
       "0   shiva    20.0  20.0\n",
       "1  shashi  shashi   hyd\n",
       "2   kumar    22.0  pune\n",
       "3     NaN    23.0   jgl"
      ]
     },
     "execution_count": 46,
     "metadata": {},
     "output_type": "execute_result"
    }
   ],
   "source": [
    "data1.fillna(method='ffill',axis=1)"
   ]
  },
  {
   "cell_type": "code",
   "execution_count": 47,
   "id": "28bb8ae9-bd07-4354-93a9-da05a68ff26d",
   "metadata": {},
   "outputs": [
    {
     "data": {
      "text/html": [
       "<div>\n",
       "<style scoped>\n",
       "    .dataframe tbody tr th:only-of-type {\n",
       "        vertical-align: middle;\n",
       "    }\n",
       "\n",
       "    .dataframe tbody tr th {\n",
       "        vertical-align: top;\n",
       "    }\n",
       "\n",
       "    .dataframe thead th {\n",
       "        text-align: right;\n",
       "    }\n",
       "</style>\n",
       "<table border=\"1\" class=\"dataframe\">\n",
       "  <thead>\n",
       "    <tr style=\"text-align: right;\">\n",
       "      <th></th>\n",
       "      <th>name</th>\n",
       "      <th>age</th>\n",
       "      <th>city</th>\n",
       "    </tr>\n",
       "  </thead>\n",
       "  <tbody>\n",
       "    <tr>\n",
       "      <th>0</th>\n",
       "      <td>shiva</td>\n",
       "      <td>20.0</td>\n",
       "      <td>NaN</td>\n",
       "    </tr>\n",
       "    <tr>\n",
       "      <th>1</th>\n",
       "      <td>shashi</td>\n",
       "      <td>20.0</td>\n",
       "      <td>hyd</td>\n",
       "    </tr>\n",
       "    <tr>\n",
       "      <th>2</th>\n",
       "      <td>kumar</td>\n",
       "      <td>22.0</td>\n",
       "      <td>pune</td>\n",
       "    </tr>\n",
       "    <tr>\n",
       "      <th>3</th>\n",
       "      <td>kumar</td>\n",
       "      <td>23.0</td>\n",
       "      <td>jgl</td>\n",
       "    </tr>\n",
       "  </tbody>\n",
       "</table>\n",
       "</div>"
      ],
      "text/plain": [
       "     name   age  city\n",
       "0   shiva  20.0   NaN\n",
       "1  shashi  20.0   hyd\n",
       "2   kumar  22.0  pune\n",
       "3   kumar  23.0   jgl"
      ]
     },
     "execution_count": 47,
     "metadata": {},
     "output_type": "execute_result"
    }
   ],
   "source": [
    "data1.fillna(method='pad',axis=0)"
   ]
  },
  {
   "cell_type": "code",
   "execution_count": 48,
   "id": "c1432718-99f7-495a-8c2d-104c9019bde1",
   "metadata": {},
   "outputs": [
    {
     "data": {
      "text/html": [
       "<div>\n",
       "<style scoped>\n",
       "    .dataframe tbody tr th:only-of-type {\n",
       "        vertical-align: middle;\n",
       "    }\n",
       "\n",
       "    .dataframe tbody tr th {\n",
       "        vertical-align: top;\n",
       "    }\n",
       "\n",
       "    .dataframe thead th {\n",
       "        text-align: right;\n",
       "    }\n",
       "</style>\n",
       "<table border=\"1\" class=\"dataframe\">\n",
       "  <thead>\n",
       "    <tr style=\"text-align: right;\">\n",
       "      <th></th>\n",
       "      <th>name</th>\n",
       "      <th>age</th>\n",
       "      <th>city</th>\n",
       "    </tr>\n",
       "  </thead>\n",
       "  <tbody>\n",
       "    <tr>\n",
       "      <th>0</th>\n",
       "      <td>shiva</td>\n",
       "      <td>20.0</td>\n",
       "      <td>20.0</td>\n",
       "    </tr>\n",
       "    <tr>\n",
       "      <th>1</th>\n",
       "      <td>shashi</td>\n",
       "      <td>shashi</td>\n",
       "      <td>hyd</td>\n",
       "    </tr>\n",
       "    <tr>\n",
       "      <th>2</th>\n",
       "      <td>kumar</td>\n",
       "      <td>22.0</td>\n",
       "      <td>pune</td>\n",
       "    </tr>\n",
       "    <tr>\n",
       "      <th>3</th>\n",
       "      <td>NaN</td>\n",
       "      <td>23.0</td>\n",
       "      <td>jgl</td>\n",
       "    </tr>\n",
       "  </tbody>\n",
       "</table>\n",
       "</div>"
      ],
      "text/plain": [
       "     name     age  city\n",
       "0   shiva    20.0  20.0\n",
       "1  shashi  shashi   hyd\n",
       "2   kumar    22.0  pune\n",
       "3     NaN    23.0   jgl"
      ]
     },
     "execution_count": 48,
     "metadata": {},
     "output_type": "execute_result"
    }
   ],
   "source": [
    "data1.fillna(method='pad',axis=1)"
   ]
  },
  {
   "cell_type": "markdown",
   "id": "dce24694-85ae-4c06-bef4-6b0275e7c175",
   "metadata": {},
   "source": [
    "# mean-median-mode"
   ]
  },
  {
   "cell_type": "code",
   "execution_count": 49,
   "id": "5b66569a-a91b-4d99-a11e-bce09c42b9cd",
   "metadata": {},
   "outputs": [],
   "source": [
    "# first choose the column\n",
    "# if it is numerical column then fill with mean or median\n",
    "# if it is categorical column then fill with mode"
   ]
  },
  {
   "cell_type": "code",
   "execution_count": 50,
   "id": "a95a3b90-95fa-4705-8a8f-5cdaf1d2372b",
   "metadata": {},
   "outputs": [
    {
     "data": {
      "text/html": [
       "<div>\n",
       "<style scoped>\n",
       "    .dataframe tbody tr th:only-of-type {\n",
       "        vertical-align: middle;\n",
       "    }\n",
       "\n",
       "    .dataframe tbody tr th {\n",
       "        vertical-align: top;\n",
       "    }\n",
       "\n",
       "    .dataframe thead th {\n",
       "        text-align: right;\n",
       "    }\n",
       "</style>\n",
       "<table border=\"1\" class=\"dataframe\">\n",
       "  <thead>\n",
       "    <tr style=\"text-align: right;\">\n",
       "      <th></th>\n",
       "      <th>name</th>\n",
       "      <th>age</th>\n",
       "      <th>city</th>\n",
       "    </tr>\n",
       "  </thead>\n",
       "  <tbody>\n",
       "    <tr>\n",
       "      <th>0</th>\n",
       "      <td>shiva</td>\n",
       "      <td>20.0</td>\n",
       "      <td>NaN</td>\n",
       "    </tr>\n",
       "    <tr>\n",
       "      <th>1</th>\n",
       "      <td>shashi</td>\n",
       "      <td>NaN</td>\n",
       "      <td>hyd</td>\n",
       "    </tr>\n",
       "    <tr>\n",
       "      <th>2</th>\n",
       "      <td>kumar</td>\n",
       "      <td>22.0</td>\n",
       "      <td>pune</td>\n",
       "    </tr>\n",
       "    <tr>\n",
       "      <th>3</th>\n",
       "      <td>NaN</td>\n",
       "      <td>23.0</td>\n",
       "      <td>jgl</td>\n",
       "    </tr>\n",
       "  </tbody>\n",
       "</table>\n",
       "</div>"
      ],
      "text/plain": [
       "     name   age  city\n",
       "0   shiva  20.0   NaN\n",
       "1  shashi   NaN   hyd\n",
       "2   kumar  22.0  pune\n",
       "3     NaN  23.0   jgl"
      ]
     },
     "execution_count": 50,
     "metadata": {},
     "output_type": "execute_result"
    }
   ],
   "source": [
    "data1"
   ]
  },
  {
   "cell_type": "code",
   "execution_count": 54,
   "id": "737c57eb-bf02-496e-acc2-f94caf85638e",
   "metadata": {},
   "outputs": [
    {
     "data": {
      "text/plain": [
       "0    20.000000\n",
       "1    21.666667\n",
       "2    22.000000\n",
       "3    23.000000\n",
       "Name: age, dtype: float64"
      ]
     },
     "execution_count": 54,
     "metadata": {},
     "output_type": "execute_result"
    }
   ],
   "source": [
    "mean_age=data['age'].mean()\n",
    "data['age'].fillna(mean_age)"
   ]
  },
  {
   "cell_type": "code",
   "execution_count": 55,
   "id": "e202f8e1-5d09-406f-b367-e4e6e1d4bcbe",
   "metadata": {},
   "outputs": [
    {
     "data": {
      "text/plain": [
       "0    20.0\n",
       "1    22.0\n",
       "2    22.0\n",
       "3    23.0\n",
       "Name: age, dtype: float64"
      ]
     },
     "execution_count": 55,
     "metadata": {},
     "output_type": "execute_result"
    }
   ],
   "source": [
    "median_age=data['age'].median()\n",
    "data['age'].fillna(median_age)"
   ]
  },
  {
   "cell_type": "markdown",
   "id": "7aba77ca-16cb-40a8-9c10-9b6e04d6f001",
   "metadata": {},
   "source": []
  },
  {
   "cell_type": "code",
   "execution_count": 63,
   "id": "70b933b5-9a8b-4dd7-880d-2b1e35df8cea",
   "metadata": {},
   "outputs": [
    {
     "data": {
      "text/plain": [
       "22.0"
      ]
     },
     "execution_count": 63,
     "metadata": {},
     "output_type": "execute_result"
    }
   ],
   "source": [
    "median_age"
   ]
  },
  {
   "cell_type": "code",
   "execution_count": null,
   "id": "73fef24c-5bf8-459a-a003-c1d2d19aa7fa",
   "metadata": {},
   "outputs": [],
   "source": [
    "mode.values[0]\n"
   ]
  },
  {
   "cell_type": "code",
   "execution_count": 69,
   "id": "dbb6f358-5596-4ff4-80dd-aebab20143b5",
   "metadata": {},
   "outputs": [
    {
     "data": {
      "text/plain": [
       "0    20.000000\n",
       "1    21.666667\n",
       "2    22.000000\n",
       "3    23.000000\n",
       "Name: age, dtype: float64"
      ]
     },
     "execution_count": 69,
     "metadata": {},
     "output_type": "execute_result"
    }
   ],
   "source": [
    "mean_age=data['age'].mean()\n",
    "data['age'].fillna(mean_age)\n"
   ]
  },
  {
   "cell_type": "code",
   "execution_count": 68,
   "id": "08c10921-50b9-4c15-b53a-756828e1b40f",
   "metadata": {},
   "outputs": [
    {
     "data": {
      "text/plain": [
       "0    20.0\n",
       "1    22.0\n",
       "2    22.0\n",
       "3    23.0\n",
       "Name: age, dtype: float64"
      ]
     },
     "execution_count": 68,
     "metadata": {},
     "output_type": "execute_result"
    }
   ],
   "source": [
    "median_age=data['age'].median()\n",
    "data['age'].fillna(median_age)"
   ]
  },
  {
   "cell_type": "code",
   "execution_count": 67,
   "id": "f4fc681b-37db-4826-bd8b-8cca337d6e26",
   "metadata": {},
   "outputs": [
    {
     "data": {
      "text/plain": [
       "0     hyd\n",
       "1     hyd\n",
       "2    pune\n",
       "3     jgl\n",
       "Name: city, dtype: object"
      ]
     },
     "execution_count": 67,
     "metadata": {},
     "output_type": "execute_result"
    }
   ],
   "source": [
    "mode=data['city'].mode()\n",
    "data['city'].fillna(mode.values[0])"
   ]
  },
  {
   "cell_type": "markdown",
   "id": "e3a762a1-4c74-4e87-9204-0821b0eed220",
   "metadata": {},
   "source": [
    "- random\n",
    "- pad\n",
    "- ffill\n",
    "- bfill\n",
    "- backfill\n",
    "- mean\n",
    "- median\n",
    "- mode"
   ]
  },
  {
   "cell_type": "markdown",
   "id": "c66d00bb-817b-4c90-a373-3ab2ae1f571f",
   "metadata": {},
   "source": [
    "- missing value analysis  will be done before outliers only \n",
    "- either we can fill with median\n",
    "- do not take all the data mean\n",
    "- we will take only some sample means **KNN Imputer**\n",
    "\n",
    "**KNN Imputer**\n",
    "- KNN means K-nearest neighbours\n",
    "- we will choose the less distance people"
   ]
  },
  {
   "cell_type": "code",
   "execution_count": null,
   "id": "0612bcc3-4a65-4e77-855f-ef2107b73208",
   "metadata": {},
   "outputs": [],
   "source": [
    "# packagename=sklearn\n",
    "# classname= Imputer\n",
    "# methodname=KNNImputer\n",
    "# steps\n",
    "# read the method\n",
    "# save the method\n",
    "# apply the fit transform"
   ]
  },
  {
   "cell_type": "markdown",
   "id": "84a1c20e-ef5d-49b0-95c0-aeb479b32495",
   "metadata": {},
   "source": [
    "from sklearn.impute import KNNIputer\n",
    "knn=KNNImputer()\n",
    "knn"
   ]
  }
 ],
 "metadata": {
  "kernelspec": {
   "display_name": "Python 3 (ipykernel)",
   "language": "python",
   "name": "python3"
  },
  "language_info": {
   "codemirror_mode": {
    "name": "ipython",
    "version": 3
   },
   "file_extension": ".py",
   "mimetype": "text/x-python",
   "name": "python",
   "nbconvert_exporter": "python",
   "pygments_lexer": "ipython3",
   "version": "3.12.4"
  }
 },
 "nbformat": 4,
 "nbformat_minor": 5
}
